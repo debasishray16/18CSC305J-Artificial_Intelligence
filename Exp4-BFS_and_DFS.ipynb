{
  "nbformat": 4,
  "nbformat_minor": 0,
  "metadata": {
    "colab": {
      "provenance": []
    },
    "kernelspec": {
      "name": "python3",
      "display_name": "Python 3"
    },
    "language_info": {
      "name": "python"
    }
  },
  "cells": [
    {
      "cell_type": "markdown",
      "source": [
        "# BFS Implementation"
      ],
      "metadata": {
        "id": "co_pEXPjR0c7"
      }
    },
    {
      "cell_type": "code",
      "execution_count": 1,
      "metadata": {
        "colab": {
          "base_uri": "https://localhost:8080/"
        },
        "id": "vA40R9q7RzJw",
        "outputId": "1a526d4e-d839-4c9a-ef3c-ce774813de49"
      },
      "outputs": [
        {
          "output_type": "stream",
          "name": "stdout",
          "text": [
            "BFS traversal starting from vertex 2:\n",
            "2 0 3 1 "
          ]
        }
      ],
      "source": [
        "from collections import deque\n",
        "\n",
        "class Graph:\n",
        "    def __init__(self):\n",
        "        self.adjacency_list = {}\n",
        "\n",
        "    def add_edge(self, u, v):\n",
        "        if u not in self.adjacency_list:\n",
        "            self.adjacency_list[u] = []\n",
        "        if v not in self.adjacency_list:\n",
        "            self.adjacency_list[v] = []\n",
        "        self.adjacency_list[u].append(v)\n",
        "\n",
        "    def bfs(self, start):\n",
        "        visited = set()\n",
        "        queue = deque([start])\n",
        "        visited.add(start)\n",
        "\n",
        "        while queue:\n",
        "            vertex = queue.popleft()\n",
        "            print(vertex, end=\" \")\n",
        "\n",
        "            for neighbor in self.adjacency_list[vertex]:\n",
        "                if neighbor not in visited:\n",
        "                    queue.append(neighbor)\n",
        "                    visited.add(neighbor)\n",
        "\n",
        "# Example usage:\n",
        "if __name__ == \"__main__\":\n",
        "    graph = Graph()\n",
        "    graph.add_edge(0, 1)\n",
        "    graph.add_edge(0, 2)\n",
        "    graph.add_edge(1, 2)\n",
        "    graph.add_edge(2, 0)\n",
        "    graph.add_edge(2, 3)\n",
        "    graph.add_edge(3, 3)\n",
        "\n",
        "    print(\"BFS traversal starting from vertex 2:\")\n",
        "    graph.bfs(2)\n"
      ]
    },
    {
      "cell_type": "markdown",
      "source": [
        "# DFS Implementation"
      ],
      "metadata": {
        "id": "NiAiTjzwSDY2"
      }
    },
    {
      "cell_type": "code",
      "source": [
        "from collections import defaultdict\n",
        "\n",
        "class Graph:\n",
        "    def __init__(self):\n",
        "        self.adjacency_list = defaultdict(list)\n",
        "\n",
        "    def add_edge(self, u, v):\n",
        "        self.adjacency_list[u].append(v)\n",
        "\n",
        "    def dfs_recursive(self, vertex, visited):\n",
        "        visited.add(vertex)\n",
        "        print(vertex, end=\" \")\n",
        "\n",
        "        for neighbor in self.adjacency_list[vertex]:\n",
        "            if neighbor not in visited:\n",
        "                self.dfs_recursive(neighbor, visited)\n",
        "\n",
        "    def dfs_iterative(self, start):\n",
        "        visited = set()\n",
        "        stack = [start]\n",
        "\n",
        "        while stack:\n",
        "            vertex = stack.pop()\n",
        "            if vertex not in visited:\n",
        "                print(vertex, end=\" \")\n",
        "                visited.add(vertex)\n",
        "                stack.extend(reversed(self.adjacency_list[vertex]))\n",
        "\n",
        "# Example usage:\n",
        "if __name__ == \"__main__\":\n",
        "    graph = Graph()\n",
        "    graph.add_edge(0, 1)\n",
        "    graph.add_edge(0, 2)\n",
        "    graph.add_edge(1, 2)\n",
        "    graph.add_edge(2, 0)\n",
        "    graph.add_edge(2, 3)\n",
        "    graph.add_edge(3, 3)\n",
        "\n",
        "    print(\"DFS traversal using recursion:\")\n",
        "    graph.dfs_recursive(2, set())\n",
        "\n",
        "    print(\"\\nDFS traversal using iteration:\")\n",
        "    graph.dfs_iterative(2)\n"
      ],
      "metadata": {
        "colab": {
          "base_uri": "https://localhost:8080/"
        },
        "id": "Yp2yR9fGSB1A",
        "outputId": "e324acee-a7e1-487e-e761-e0182c6203a0"
      },
      "execution_count": 2,
      "outputs": [
        {
          "output_type": "stream",
          "name": "stdout",
          "text": [
            "DFS traversal using recursion:\n",
            "2 0 1 3 \n",
            "DFS traversal using iteration:\n",
            "2 0 1 3 "
          ]
        }
      ]
    }
  ]
}