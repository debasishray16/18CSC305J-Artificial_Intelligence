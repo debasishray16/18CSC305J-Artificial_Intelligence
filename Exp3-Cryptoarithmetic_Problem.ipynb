{
  "cells": [
    {
      "cell_type": "code",
      "execution_count": null,
      "id": "c0f93e5d-ce6f-46e4-acba-dbf15a0c3bc8",
      "metadata": {
        "id": "c0f93e5d-ce6f-46e4-acba-dbf15a0c3bc8",
        "outputId": "fcbc599d-5f37-48bd-9306-892943b1cbbd"
      },
      "outputs": [
        {
          "name": "stdout",
          "output_type": "stream",
          "text": [
            "Solution found: {'A': 1, 'B': 2, 'C': 1}\n"
          ]
        }
      ],
      "source": [
        "def is_valid_assignment(assignment, constraints):\n",
        "    for (var1, var2) in constraints:\n",
        "        if var1 in assignment and var2 in assignment:\n",
        "            if assignment[var1] == assignment[var2]:\n",
        "                return False\n",
        "    return True\n",
        "\n",
        "def backtrack(assignment, variables, domain, constraints):\n",
        "    if len(assignment) == len(variables):\n",
        "        return assignment\n",
        "\n",
        "    var = variables[len(assignment)]\n",
        "    for value in domain:\n",
        "        assignment[var] = value\n",
        "        if is_valid_assignment(assignment, constraints):\n",
        "            result = backtrack(assignment, variables, domain, constraints)\n",
        "            if result is not None:\n",
        "                return result\n",
        "        del assignment[var]\n",
        "    return None\n",
        "\n",
        "def solve_csp(variables, domain, constraints):\n",
        "    assignment = {}\n",
        "    return backtrack(assignment, variables, domain, constraints)\n",
        "\n",
        "if __name__ == \"__main__\":\n",
        "    # Example usage\n",
        "    variables = ['A', 'B', 'C']\n",
        "    domain = [1, 2, 3]\n",
        "    constraints = [('A', 'B'), ('B', 'C')]\n",
        "    solution = solve_csp(variables, domain, constraints)\n",
        "    if solution:\n",
        "        print(\"Solution found:\", solution)\n",
        "    else:\n",
        "        print(\"No solution found.\")\n"
      ]
    },
    {
      "cell_type": "code",
      "execution_count": null,
      "id": "c1f8545e-37ca-48c5-b947-cfd32028e700",
      "metadata": {
        "id": "c1f8545e-37ca-48c5-b947-cfd32028e700"
      },
      "outputs": [],
      "source": []
    },
    {
      "cell_type": "code",
      "execution_count": null,
      "id": "16640631-b650-48dd-861f-ebb8774c5dec",
      "metadata": {
        "id": "16640631-b650-48dd-861f-ebb8774c5dec"
      },
      "outputs": [],
      "source": []
    }
  ],
  "metadata": {
    "kernelspec": {
      "display_name": "Python 3 (ipykernel)",
      "language": "python",
      "name": "python3"
    },
    "language_info": {
      "codemirror_mode": {
        "name": "ipython",
        "version": 3
      },
      "file_extension": ".py",
      "mimetype": "text/x-python",
      "name": "python",
      "nbconvert_exporter": "python",
      "pygments_lexer": "ipython3",
      "version": "3.11.7"
    },
    "colab": {
      "provenance": []
    }
  },
  "nbformat": 4,
  "nbformat_minor": 5
}