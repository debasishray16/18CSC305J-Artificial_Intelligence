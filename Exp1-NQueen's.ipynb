{
  "nbformat": 4,
  "nbformat_minor": 0,
  "metadata": {
    "colab": {
      "provenance": []
    },
    "kernelspec": {
      "name": "python3",
      "display_name": "Python 3"
    },
    "language_info": {
      "name": "python"
    }
  },
  "cells": [
    {
      "cell_type": "code",
      "execution_count": 1,
      "metadata": {
        "colab": {
          "base_uri": "https://localhost:8080/"
        },
        "id": "uOIhMjUt02rX",
        "outputId": "587e0152-bd86-4991-a145-2fad01ecf120"
      },
      "outputs": [
        {
          "output_type": "stream",
          "name": "stdout",
          "text": [
            "[1, 0, 0, 0, 0, 0, 0, 0]\n",
            "[0, 0, 0, 0, 1, 0, 0, 0]\n",
            "[0, 0, 0, 0, 0, 0, 0, 1]\n",
            "[0, 0, 0, 0, 0, 1, 0, 0]\n",
            "[0, 0, 1, 0, 0, 0, 0, 0]\n",
            "[0, 0, 0, 0, 0, 0, 1, 0]\n",
            "[0, 1, 0, 0, 0, 0, 0, 0]\n",
            "[0, 0, 0, 1, 0, 0, 0, 0]\n"
          ]
        }
      ],
      "source": [
        "def is_safe(board, row, col, N):\n",
        "    # Check if there is a queen in the same column\n",
        "    for i in range(row):\n",
        "        if board[i][col] == 1:\n",
        "            return False\n",
        "\n",
        "    # Check upper left diagonal\n",
        "    for i, j in zip(range(row, -1, -1), range(col, -1, -1)):\n",
        "        if board[i][j] == 1:\n",
        "            return False\n",
        "\n",
        "    # Check upper right diagonal\n",
        "    for i, j in zip(range(row, -1, -1), range(col, N)):\n",
        "        if board[i][j] == 1:\n",
        "            return False\n",
        "\n",
        "    return True\n",
        "\n",
        "def solve_n_queens(N):\n",
        "    # Initialize the board\n",
        "    board = [[0] * N for _ in range(N)]\n",
        "\n",
        "    # Recursive function to solve the problem\n",
        "    def solve(board, row):\n",
        "        if row >= N:\n",
        "            return True\n",
        "\n",
        "        for col in range(N):\n",
        "            if is_safe(board, row, col, N):\n",
        "                board[row][col] = 1\n",
        "                if solve(board, row + 1):\n",
        "                    return True\n",
        "                board[row][col] = 0\n",
        "\n",
        "        return False\n",
        "\n",
        "    # Call the recursive function starting from the first row\n",
        "    if solve(board, 0):\n",
        "        return board\n",
        "    else:\n",
        "        return \"No solution exists.\"\n",
        "\n",
        "# Example usage:\n",
        "N = 8\n",
        "solution = solve_n_queens(N)\n",
        "if solution != \"No solution exists.\":\n",
        "    for row in solution:\n",
        "        print(row)\n",
        "else:\n",
        "    print(solution)\n"
      ]
    }
  ]
}