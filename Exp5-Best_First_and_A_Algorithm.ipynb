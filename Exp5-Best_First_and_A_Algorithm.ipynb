{
  "nbformat": 4,
  "nbformat_minor": 0,
  "metadata": {
    "colab": {
      "provenance": []
    },
    "kernelspec": {
      "name": "python3",
      "display_name": "Python 3"
    },
    "language_info": {
      "name": "python"
    }
  },
  "cells": [
    {
      "cell_type": "markdown",
      "source": [
        "# Best-First-Algorithm"
      ],
      "metadata": {
        "id": "Xhn8yq9DQ84q"
      }
    },
    {
      "cell_type": "code",
      "execution_count": 1,
      "metadata": {
        "colab": {
          "base_uri": "https://localhost:8080/"
        },
        "id": "5OImawYfQ7nZ",
        "outputId": "97a90edf-746b-4301-eb84-8ae1defe1959"
      },
      "outputs": [
        {
          "output_type": "stream",
          "name": "stdout",
          "text": [
            "Goal found at state: 5\n"
          ]
        }
      ],
      "source": [
        "import heapq\n",
        "\n",
        "class Node:\n",
        "    def __init__(self, state, cost):\n",
        "        self.state = state\n",
        "        self.cost = cost\n",
        "\n",
        "    def __lt__(self, other):\n",
        "        return self.cost < other.cost\n",
        "\n",
        "def best_first_search(initial_state, goal_state, successors, heuristic):\n",
        "    visited = set()\n",
        "    frontier = []\n",
        "    heapq.heappush(frontier, Node(initial_state, heuristic(initial_state)))\n",
        "\n",
        "    while frontier:\n",
        "        current_node = heapq.heappop(frontier)\n",
        "        current_state = current_node.state\n",
        "\n",
        "        if current_state in visited:\n",
        "            continue\n",
        "\n",
        "        visited.add(current_state)\n",
        "\n",
        "        if current_state == goal_state:\n",
        "            return current_state  # Goal found\n",
        "\n",
        "        for successor_state, cost in successors(current_state):\n",
        "            if successor_state not in visited:\n",
        "                heapq.heappush(frontier, Node(successor_state, heuristic(successor_state)))\n",
        "\n",
        "    return None  # Goal not found\n",
        "\n",
        "# Example usage:\n",
        "\n",
        "# Define a heuristic function (for demonstration purposes, it could be any heuristic)\n",
        "def heuristic(state):\n",
        "    # This is a dummy heuristic that always returns 0\n",
        "    return 0\n",
        "\n",
        "# Define successors function\n",
        "def successors(state):\n",
        "    # This is a dummy successors function that generates successors based on the current state\n",
        "    # It should return a list of (successor_state, cost) pairs\n",
        "    # Here, for simplicity, it just generates successors by incrementing the state by 1\n",
        "    return [(state + 1, 1), (state + 2, 1)]  # Example successors\n",
        "\n",
        "# Define initial state and goal state\n",
        "initial_state = 0\n",
        "goal_state = 5\n",
        "\n",
        "# Run Best-First Search\n",
        "result = best_first_search(initial_state, goal_state, successors, heuristic)\n",
        "print(\"Goal found at state:\", result)\n"
      ]
    },
    {
      "cell_type": "markdown",
      "source": [
        "# A* Algorithm"
      ],
      "metadata": {
        "id": "nXA02z5FRB-c"
      }
    },
    {
      "cell_type": "code",
      "source": [
        "import heapq\n",
        "\n",
        "class Node:\n",
        "    def __init__(self, state, g_cost, h_cost):\n",
        "        self.state = state\n",
        "        self.g_cost = g_cost  # Cost from start node to current node\n",
        "        self.h_cost = h_cost  # Heuristic cost from current node to goal node\n",
        "        self.f_cost = g_cost + h_cost  # Total cost (f-cost) = g-cost + h-cost\n",
        "\n",
        "    def __lt__(self, other):\n",
        "        return self.f_cost < other.f_cost\n",
        "\n",
        "def astar(initial_state, goal_state, successors, heuristic):\n",
        "    visited = set()\n",
        "    frontier = []\n",
        "    heapq.heappush(frontier, Node(initial_state, 0, heuristic(initial_state)))\n",
        "\n",
        "    while frontier:\n",
        "        current_node = heapq.heappop(frontier)\n",
        "        current_state = current_node.state\n",
        "\n",
        "        if current_state in visited:\n",
        "            continue\n",
        "\n",
        "        visited.add(current_state)\n",
        "\n",
        "        if current_state == goal_state:\n",
        "            return current_node  # Goal found\n",
        "\n",
        "        for successor_state, cost in successors(current_state):\n",
        "            if successor_state not in visited:\n",
        "                g_cost = current_node.g_cost + cost\n",
        "                h_cost = heuristic(successor_state)\n",
        "                heapq.heappush(frontier, Node(successor_state, g_cost, h_cost))\n",
        "\n",
        "    return None  # Goal not found\n",
        "\n",
        "# Example usage:\n",
        "\n",
        "# Define a heuristic function (for demonstration purposes, it could be any heuristic)\n",
        "def heuristic(state):\n",
        "    # This is a dummy heuristic that always returns 0\n",
        "    return 0\n",
        "\n",
        "# Define successors function\n",
        "def successors(state):\n",
        "    # This is a dummy successors function that generates successors based on the current state\n",
        "    # It should return a list of (successor_state, cost) pairs\n",
        "    # Here, for simplicity, it just generates successors by incrementing the state by 1\n",
        "    return [(state + 1, 1), (state + 2, 1)]  # Example successors\n",
        "\n",
        "# Define initial state and goal state\n",
        "initial_state = 0\n",
        "goal_state = 5\n",
        "\n",
        "# Run A* Search\n",
        "result_node = astar(initial_state, goal_state, successors, heuristic)\n",
        "if result_node:\n",
        "    print(\"Goal found at state:\", result_node.state)\n",
        "    print(\"Total cost:\", result_node.f_cost)\n",
        "else:\n",
        "    print(\"Goal not found.\")\n"
      ],
      "metadata": {
        "colab": {
          "base_uri": "https://localhost:8080/"
        },
        "id": "CIq6F9hHRBYD",
        "outputId": "2360d13f-9455-4573-edcc-5b38e93bab50"
      },
      "execution_count": 2,
      "outputs": [
        {
          "output_type": "stream",
          "name": "stdout",
          "text": [
            "Goal found at state: 5\n",
            "Total cost: 3\n"
          ]
        }
      ]
    },
    {
      "cell_type": "code",
      "source": [],
      "metadata": {
        "id": "V_z6z57cRX0p"
      },
      "execution_count": null,
      "outputs": []
    }
  ]
}