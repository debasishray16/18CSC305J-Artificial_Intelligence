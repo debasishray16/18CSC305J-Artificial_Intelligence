{
  "nbformat": 4,
  "nbformat_minor": 0,
  "metadata": {
    "colab": {
      "provenance": []
    },
    "kernelspec": {
      "name": "python3",
      "display_name": "Python 3"
    },
    "language_info": {
      "name": "python"
    }
  },
  "cells": [
    {
      "cell_type": "code",
      "execution_count": 1,
      "metadata": {
        "colab": {
          "base_uri": "https://localhost:8080/"
        },
        "id": "owSWum9KQDVi",
        "outputId": "0754ce3c-f1d6-4f39-fbef-9590278ae238"
      },
      "outputs": [
        {
          "output_type": "stream",
          "name": "stdout",
          "text": [
            "Unification successful. Substitution:\n",
            "X = John\n",
            "Y = coffee\n"
          ]
        }
      ],
      "source": [
        "class Variable:\n",
        "    def __init__(self, name):\n",
        "        self.name = name\n",
        "\n",
        "class Constant:\n",
        "    def __init__(self, name):\n",
        "        self.name = name\n",
        "\n",
        "class Predicate:\n",
        "    def __init__(self, name, args):\n",
        "        self.name = name\n",
        "        self.args = args\n",
        "\n",
        "def unify(x, y, substitution):\n",
        "    if substitution is None:\n",
        "        return None\n",
        "    elif x == y:\n",
        "        return substitution\n",
        "    elif isinstance(x, Variable):\n",
        "        return unify_variable(x, y, substitution)\n",
        "    elif isinstance(y, Variable):\n",
        "        return unify_variable(y, x, substitution)\n",
        "    elif isinstance(x, Predicate) and isinstance(y, Predicate):\n",
        "        return unify(x.args, y.args, unify(x.name, y.name, substitution))\n",
        "    elif isinstance(x, list) and isinstance(y, list) and len(x) == len(y):\n",
        "        return unify(x[1:], y[1:], unify(x[0], y[0], substitution))\n",
        "    else:\n",
        "        return None\n",
        "\n",
        "def unify_variable(var, x, substitution):\n",
        "    if var.name in substitution:\n",
        "        return unify(substitution[var.name], x, substitution)\n",
        "    elif occurs_check(var, x, substitution):\n",
        "        return None\n",
        "    else:\n",
        "        substitution[var.name] = x\n",
        "        return substitution\n",
        "\n",
        "def occurs_check(var, x, substitution):\n",
        "    if var == x:\n",
        "        return True\n",
        "    elif isinstance(x, Variable):\n",
        "        return var.name == x.name\n",
        "    elif isinstance(x, Predicate):\n",
        "        return occurs_check(var, x.name, substitution) or any(occurs_check(var, arg, substitution) for arg in x.args)\n",
        "    elif isinstance(x, list):\n",
        "        return any(occurs_check(var, item, substitution) for item in x)\n",
        "    else:\n",
        "        return False\n",
        "\n",
        "# Example usage\n",
        "if __name__ == \"__main__\":\n",
        "    # Define variables, constants, and predicates\n",
        "    x = Variable(\"X\")\n",
        "    y = Variable(\"Y\")\n",
        "    john = Constant(\"John\")\n",
        "    likes = Predicate(\"likes\", [x, y])\n",
        "    coffee = Constant(\"coffee\")\n",
        "\n",
        "    # Define constraints\n",
        "    constraints = [\n",
        "        (likes, Predicate(\"likes\", [john, coffee])),\n",
        "        (x, john),\n",
        "        (y, coffee)\n",
        "    ]\n",
        "\n",
        "    # Initialize substitution\n",
        "    substitution = {}\n",
        "\n",
        "    # Apply unification\n",
        "    for constraint in constraints:\n",
        "        predicate1, predicate2 = constraint\n",
        "        substitution = unify(predicate1, predicate2, substitution)\n",
        "\n",
        "    # Display the result\n",
        "    if substitution is not None:\n",
        "        print(\"Unification successful. Substitution:\")\n",
        "        for var, value in substitution.items():\n",
        "            print(f\"{var} = {value.name if isinstance(value, Constant) else value}\")\n",
        "    else:\n",
        "        print(\"Unification failed.\")\n"
      ]
    }
  ]
}