{
  "nbformat": 4,
  "nbformat_minor": 0,
  "metadata": {
    "colab": {
      "provenance": []
    },
    "kernelspec": {
      "name": "python3",
      "display_name": "Python 3"
    },
    "language_info": {
      "name": "python"
    }
  },
  "cells": [
    {
      "cell_type": "code",
      "execution_count": 1,
      "metadata": {
        "colab": {
          "base_uri": "https://localhost:8080/"
        },
        "id": "NSaN8-rfPKRx",
        "outputId": "4facf26c-8b36-404a-8493-9cca21f38540"
      },
      "outputs": [
        {
          "output_type": "stream",
          "name": "stdout",
          "text": [
            "The First Fuzzy Set is : {'a': 0.2, 'b': 0.3, 'c': 0.6, 'd': 0.6}\n",
            "The Second Fuzzy Set is : {'a': 0.9, 'b': 0.9, 'c': 0.4, 'd': 0.5}\n"
          ]
        }
      ],
      "source": [
        "A = dict()\n",
        "B = dict()\n",
        "Y = dict()\n",
        "X = dict()\n",
        "A = {\"a\": 0.2, \"b\": 0.3, \"c\": 0.6, \"d\": 0.6}\n",
        "B = {\"a\": 0.9, \"b\": 0.9, \"c\": 0.4, \"d\": 0.5}\n",
        "print('The First Fuzzy Set is :', A)\n",
        "print('The Second Fuzzy Set is :', B)\n",
        "for A_key, B_key in zip(A, B):\n",
        "    A_value = A[A_key]\n",
        "    B_value = B[B_key]\n",
        "    if A_value > B_value:\n",
        "        Y[A_key] = A_value\n",
        "    else:\n",
        "            Y[B_key] = B_value\n"
      ]
    }
  ]
}